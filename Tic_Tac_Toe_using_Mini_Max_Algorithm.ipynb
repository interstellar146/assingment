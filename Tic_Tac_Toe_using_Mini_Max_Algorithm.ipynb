{
  "nbformat": 4,
  "nbformat_minor": 0,
  "metadata": {
    "colab": {
      "provenance": [],
      "include_colab_link": true
    },
    "kernelspec": {
      "name": "python3",
      "display_name": "Python 3"
    },
    "language_info": {
      "name": "python"
    }
  },
  "cells": [
    {
      "cell_type": "markdown",
      "metadata": {
        "id": "view-in-github",
        "colab_type": "text"
      },
      "source": [
        "<a href=\"https://colab.research.google.com/github/interstellar146/assingment/blob/main/Tic_Tac_Toe_using_Mini_Max_Algorithm.ipynb\" target=\"_parent\"><img src=\"https://colab.research.google.com/assets/colab-badge.svg\" alt=\"Open In Colab\"/></a>"
      ]
    },
    {
      "cell_type": "markdown",
      "source": [
        "**Name: Abanob Bhanu** | **Enrollment No.:190420111005**"
      ],
      "metadata": {
        "id": "TEXmGUrgQnmJ"
      }
    },
    {
      "cell_type": "markdown",
      "source": [
        "**Subject: Introduction To Artifical Intelligence (3171105) | BE/EC-4/SEM-7**"
      ],
      "metadata": {
        "id": "VNUDkokAQy8b"
      }
    },
    {
      "cell_type": "markdown",
      "source": [
        "Lab 8 MINI max algorithm"
      ],
      "metadata": {
        "id": "viPUOKqnRIFa"
      }
    },
    {
      "cell_type": "code",
      "execution_count": null,
      "metadata": {
        "id": "7BG9pcqwHh5C",
        "colab": {
          "base_uri": "https://localhost:8080/"
        },
        "outputId": "3f1d08ba-46b8-40bb-bd2f-a4543ae6d448"
      },
      "outputs": [
        {
          "output_type": "stream",
          "name": "stdout",
          "text": [
            "Enter 1 for single player, 2 for multiplayer: 1\n",
            "Computer : O Vs. You : X\n",
            "Enter to play 1(st) or 2(nd) :1\n",
            "Current State Of Board : \n",
            "\n",
            "\n",
            "-  -  -  \n",
            "\n",
            "-  -  -  \n",
            "\n",
            "-  -  -  \n",
            "\n",
            "\n",
            "Enter X's position from [1...9]: 3\n",
            "Current State Of Board : \n",
            "\n",
            "\n",
            "-  -  X  \n",
            "\n",
            "-  O  -  \n",
            "\n",
            "-  -  -  \n",
            "\n",
            "\n",
            "Enter X's position from [1...9]: 7\n",
            "Current State Of Board : \n",
            "\n",
            "\n",
            "-  O  X  \n",
            "\n",
            "-  O  -  \n",
            "\n",
            "X  -  -  \n",
            "\n",
            "\n",
            "Enter X's position from [1...9]: 8\n",
            "Current State Of Board : \n",
            "\n",
            "\n",
            "-  O  X  \n",
            "\n",
            "-  O  -  \n",
            "\n",
            "X  X  O  \n",
            "\n",
            "\n",
            "Enter X's position from [1...9]: 1\n",
            "Current State Of Board : \n",
            "\n",
            "\n",
            "X  O  X  \n",
            "\n",
            "O  O  -  \n",
            "\n",
            "X  X  O  \n",
            "\n",
            "\n",
            "Enter X's position from [1...9]: 6\n",
            "Current State Of Board : \n",
            "\n",
            "\n",
            "X  O  X  \n",
            "\n",
            "O  O  X  \n",
            "\n",
            "X  X  O  \n",
            "\n",
            "\n",
            "Draw!!!\n"
          ]
        }
      ],
      "source": [
        "#Tic-Tac-Toe using Mini-Max Algorithm\n",
        "\"\"\"-----------------------\"\"\"\n",
        "\n",
        "#This function is used to draw the board's current state every time the user turn arrives.\n",
        "def ConstBoard(board):\n",
        "    print(\"Current State Of Board : \\n\\n\");\n",
        "    for i in range (0,9):\n",
        "        if((i>0) and (i%3)==0):\n",
        "            print(\"\\n\");\n",
        "        if(board[i]==0):\n",
        "            print(\"- \",end=\" \");\n",
        "        if (board[i]==1):\n",
        "            print(\"O \",end=\" \");\n",
        "        if(board[i]==-1):\n",
        "            print(\"X \",end=\" \");\n",
        "    print(\"\\n\\n\");\n",
        "\n",
        "#This function takes the user move as input and make the required changes on the board.\n",
        "def User1Turn(board):\n",
        "    pos=input(\"Enter X's position from [1...9]: \");\n",
        "    pos=int(pos);\n",
        "    if(board[pos-1]!=0):\n",
        "        print(\"Wrong Move!!!\");\n",
        "        exit(0) ;\n",
        "    board[pos-1]=-1;\n",
        "\n",
        "def User2Turn(board):\n",
        "    pos=input(\"Enter O's position from [1...9]: \");\n",
        "    pos=int(pos);\n",
        "    if(board[pos-1]!=0):\n",
        "        print(\"Wrong Move!!!\");\n",
        "        exit(0);\n",
        "    board[pos-1]=1;\n",
        "\n",
        "#MinMax function.\n",
        "def minimax(board,player):\n",
        "    x=analyzeboard(board);\n",
        "    if(x!=0):\n",
        "        return (x*player);\n",
        "    pos=-1;\n",
        "    value=-2;\n",
        "    for i in range(0,9):\n",
        "        if(board[i]==0):\n",
        "            board[i]=player;\n",
        "            score=-minimax(board,(player*-1));\n",
        "            if(score>value):\n",
        "                value=score;\n",
        "                pos=i;\n",
        "            board[i]=0;\n",
        "\n",
        "    if(pos==-1):\n",
        "        return 0;\n",
        "    return value;\n",
        "\n",
        "#This function makes the computer's move using minmax algorithm.\n",
        "def CompTurn(board):\n",
        "    pos=-1;\n",
        "    value=-2;\n",
        "    for i in range(0,9):\n",
        "        if(board[i]==0):\n",
        "            board[i]=1;\n",
        "            score=-minimax(board, -1);\n",
        "            board[i]=0;\n",
        "            if(score>value):\n",
        "                value=score;\n",
        "                pos=i;\n",
        "\n",
        "    board[pos]=1;\n",
        "\n",
        "\n",
        "#This function is used to analyze a game.\n",
        "def analyzeboard(board):\n",
        "    cb=[[0,1,2],[3,4,5],[6,7,8],[0,3,6],[1,4,7],[2,5,8],[0,4,8],[2,4,6]];\n",
        "\n",
        "    for i in range(0,8):\n",
        "        if(board[cb[i][0]] != 0 and\n",
        "           board[cb[i][0]] == board[cb[i][1]] and\n",
        "           board[cb[i][0]] == board[cb[i][2]]):\n",
        "            return board[cb[i][2]];\n",
        "    return 0;\n",
        "\n",
        "#Main Function.\n",
        "def main():\n",
        "    choice=input(\"Enter 1 for single player, 2 for multiplayer: \");\n",
        "    choice=int(choice);\n",
        "    #The broad is considered in the form of a single dimentional array.\n",
        "    #One player moves 1 and other move -1.\n",
        "    board=[0,0,0,0,0,0,0,0,0];\n",
        "    if(choice==1):\n",
        "        print(\"Computer : O Vs. You : X\");\n",
        "        player= input(\"Enter to play 1(st) or 2(nd) :\");\n",
        "        player = int(player);\n",
        "        for i in range (0,9):\n",
        "            if(analyzeboard(board)!=0):\n",
        "                break;\n",
        "            if((i+player)%2==0):\n",
        "                CompTurn(board);\n",
        "            else:\n",
        "                ConstBoard(board);\n",
        "                User1Turn(board);\n",
        "    else:\n",
        "        for i in range (0,9):\n",
        "            if(analyzeboard(board)!=0):\n",
        "                break;\n",
        "            if((i)%2==0):\n",
        "                ConstBoard(board);\n",
        "                User1Turn(board);\n",
        "            else:\n",
        "                ConstBoard(board);\n",
        "                User2Turn(board);\n",
        "\n",
        "\n",
        "    x=analyzeboard(board);\n",
        "    if(x==0):\n",
        "         ConstBoard(board);\n",
        "         print(\"Draw!!!\")\n",
        "    if(x==-1):\n",
        "         ConstBoard(board);\n",
        "         print(\"X Wins!!! Y Loose !!!\")\n",
        "    if(x==1):\n",
        "         ConstBoard(board);\n",
        "         print(\"X Loose!!! O Wins !!!!\")\n",
        "\n",
        "#---------------#\n",
        "main()\n",
        "#---------------#"
      ]
    },
    {
      "cell_type": "code",
      "source": [
        "board=[0,0,1,0,1,0,0,0,0];\n",
        "ConstBoard(board)\n",
        "#User1Turn(board)\n",
        "#player=1;\n",
        "#CompTurn(board)\n",
        "#ans=minimax(board,player)\n",
        "#print(ans)\n"
      ],
      "metadata": {
        "colab": {
          "base_uri": "https://localhost:8080/"
        },
        "id": "HqA3X3jlQORu",
        "outputId": "ff35d383-c870-463f-87df-0337d27cb73c"
      },
      "execution_count": null,
      "outputs": [
        {
          "output_type": "stream",
          "name": "stdout",
          "text": [
            "Current State Of Board : \n",
            "\n",
            "\n",
            "-  -  O  \n",
            "\n",
            "-  O  -  \n",
            "\n",
            "-  -  -  \n",
            "\n",
            "\n"
          ]
        }
      ]
    },
    {
      "cell_type": "markdown",
      "source": [
        "![image.png](data:image/png;base64,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)"
      ],
      "metadata": {
        "id": "HScm0MAMHzVc"
      }
    },
    {
      "cell_type": "code",
      "source": [
        "# A simple Python3 program to find\n",
        "# maximum score that\n",
        "# maximizing player can get\n",
        "import math\n",
        "\n",
        "def minimax (curDepth, nodeIndex,\n",
        "             maxTurn, scores,\n",
        "             targetDepth):\n",
        "\n",
        "    # base case : targetDepth reached\n",
        "    if (curDepth == targetDepth):\n",
        "        return scores[nodeIndex]\n",
        "\n",
        "    if (maxTurn):\n",
        "        return max(minimax(curDepth + 1, nodeIndex * 2,\n",
        "                    False, scores, targetDepth),\n",
        "                   minimax(curDepth + 1, nodeIndex * 2 + 1,\n",
        "                    False, scores, targetDepth))\n",
        "\n",
        "    else:\n",
        "        return min(minimax(curDepth + 1, nodeIndex * 2,\n",
        "                     True, scores, targetDepth),\n",
        "                   minimax(curDepth + 1, nodeIndex * 2 + 1,\n",
        "                     True, scores, targetDepth))\n",
        "\n",
        "# Driver code\n",
        "scores = [70, 43, 77, 50,99,190,420,11,10,5,19,0,7,20,1,19]\n",
        "\n",
        "treeDepth = math.log(len(scores), 2)\n",
        "\n",
        "print(\"The optimal value is : \", end = \"\")\n",
        "print(minimax(0, 0, True, scores, treeDepth))\n",
        ""
      ],
      "metadata": {
        "colab": {
          "base_uri": "https://localhost:8080/"
        },
        "id": "7CXU5fl5Himi",
        "outputId": "1f4c615f-5e71-4fa1-8479-648c7632ef61"
      },
      "execution_count": null,
      "outputs": [
        {
          "output_type": "stream",
          "name": "stdout",
          "text": [
            "The optimal value is : 50\n"
          ]
        }
      ]
    },
    {
      "cell_type": "markdown",
      "source": [
        "**Conclusion:** In this practical, we implemented the MINI MAX algorithm, tested its functionality, and used it to play tic tac toe."
      ],
      "metadata": {
        "id": "8HZg19SIRQQ1"
      }
    }
  ]
}